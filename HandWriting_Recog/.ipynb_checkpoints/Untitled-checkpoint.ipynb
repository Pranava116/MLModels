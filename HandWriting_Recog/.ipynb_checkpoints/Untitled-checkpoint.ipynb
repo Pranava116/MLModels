{
 "cells": [
  {
   "cell_type": "code",
   "execution_count": 2,
   "id": "073ee9a0-6b05-4927-8809-640e01047826",
   "metadata": {},
   "outputs": [
    {
     "name": "stdout",
     "output_type": "stream",
     "text": [
      "Epoch 1/3\n",
      "\u001b[1m1875/1875\u001b[0m \u001b[32m━━━━━━━━━━━━━━━━━━━━\u001b[0m\u001b[37m\u001b[0m \u001b[1m27s\u001b[0m 14ms/step - accuracy: 0.8767 - loss: 1.5598 - val_accuracy: 0.9591 - val_loss: 0.1278\n",
      "Epoch 2/3\n",
      "\u001b[1m1875/1875\u001b[0m \u001b[32m━━━━━━━━━━━━━━━━━━━━\u001b[0m\u001b[37m\u001b[0m \u001b[1m41s\u001b[0m 14ms/step - accuracy: 0.9702 - loss: 0.1007 - val_accuracy: 0.9704 - val_loss: 0.0933\n",
      "Epoch 3/3\n",
      "\u001b[1m1875/1875\u001b[0m \u001b[32m━━━━━━━━━━━━━━━━━━━━\u001b[0m\u001b[37m\u001b[0m \u001b[1m41s\u001b[0m 14ms/step - accuracy: 0.9787 - loss: 0.0694 - val_accuracy: 0.9651 - val_loss: 0.1182\n",
      "\u001b[1m1/1\u001b[0m \u001b[32m━━━━━━━━━━━━━━━━━━━━\u001b[0m\u001b[37m\u001b[0m \u001b[1m0s\u001b[0m 117ms/step\n"
     ]
    },
    {
     "data": {
      "text/plain": [
       "array([[1.02018134e-07, 2.79461970e-14, 7.89453952e-06, 9.48113375e-05,\n",
       "        1.30141481e-10, 1.81422464e-11, 3.79743759e-15, 9.99895811e-01,\n",
       "        2.67903566e-08, 1.47860294e-06],\n",
       "       [8.18850538e-07, 9.14926872e-08, 9.99995708e-01, 2.39099177e-06,\n",
       "        1.26245361e-10, 3.46205378e-13, 9.45621764e-07, 2.36260816e-10,\n",
       "        1.52371786e-08, 1.98134711e-14],\n",
       "       [4.94900032e-09, 9.99861002e-01, 3.88391491e-05, 7.25180428e-07,\n",
       "        5.03806004e-05, 5.47779734e-07, 2.83824897e-06, 4.25054122e-06,\n",
       "        4.06068866e-05, 7.06270384e-07],\n",
       "       [9.99684453e-01, 7.87873759e-12, 5.62734144e-08, 5.98945959e-09,\n",
       "        3.18990900e-09, 1.35329203e-09, 2.00690396e-04, 7.52819034e-08,\n",
       "        1.87940463e-09, 1.14646071e-04]], dtype=float32)"
      ]
     },
     "execution_count": 2,
     "metadata": {},
     "output_type": "execute_result"
    }
   ],
   "source": [
    "from keras.datasets import mnist\n",
    "from keras.models import Sequential \n",
    "from keras.layers import Dense,  Flatten\n",
    "from tensorflow.keras.layers import Conv2D\n",
    "from keras.utils import to_categorical\n",
    "import numpy as np\n",
    "import matplotlib.pyplot as plt\n",
    "(X_train, y_train), (X_test, y_test) = mnist.load_data()\n",
    "X_train = X_train.reshape(60000, 28, 28, 1)\n",
    "X_test = X_test.reshape(10000, 28, 28, 1)\n",
    "y_train = to_categorical(y_train)\n",
    "y_test = to_categorical(y_test)\n",
    "model = Sequential()\n",
    "model.add(Conv2D(16, kernel_size=3, activation='relu', input_shape=(28,28,1)))\n",
    "model.add(Conv2D(8, kernel_size = 3, activation='relu'))\n",
    "model.add(Flatten())\n",
    "model.add(Dense(10, activation='softmax'))\n",
    "model.compile(optimizer='adam', loss='categorical_crossentropy', metrics=['accuracy'])\n",
    "model.fit(X_train, y_train, validation_data=(X_test, y_test), epochs = 3)\n",
    "predicted_array = model.predict(X_test[:4])\n",
    "predicted_array"
   ]
  },
  {
   "cell_type": "code",
   "execution_count": 4,
   "id": "7decf1ff-f64b-461d-8a12-a86bfc401d60",
   "metadata": {
    "scrolled": true
   },
   "outputs": [
    {
     "ename": "TypeError",
     "evalue": "'numpy.ndarray' object is not callable",
     "output_type": "error",
     "traceback": [
      "\u001b[1;31m---------------------------------------------------------------------------\u001b[0m",
      "\u001b[1;31mTypeError\u001b[0m                                 Traceback (most recent call last)",
      "Cell \u001b[1;32mIn[4], line 1\u001b[0m\n\u001b[1;32m----> 1\u001b[0m \u001b[43mX_test\u001b[49m\u001b[43m(\u001b[49m\u001b[43m[\u001b[49m\u001b[38;5;241;43m0\u001b[39;49m\u001b[43m]\u001b[49m\u001b[43m)\u001b[49m\n",
      "\u001b[1;31mTypeError\u001b[0m: 'numpy.ndarray' object is not callable"
     ]
    }
   ],
   "source": []
  },
  {
   "cell_type": "code",
   "execution_count": 7,
   "id": "bfbb47d8-7004-4882-b698-d6dc4ec04977",
   "metadata": {
    "collapsed": true,
    "jupyter": {
     "outputs_hidden": true
    },
    "scrolled": true
   },
   "outputs": [
    {
     "data": {
      "text/plain": [
       "<matplotlib.image.AxesImage at 0x137bb260990>"
      ]
     },
     "execution_count": 7,
     "metadata": {},
     "output_type": "execute_result"
    },
    {
     "data": {
      "image/png": "[encoded data removed]",
      "text/plain": [
       "<Figure size 640x480 with 1 Axes>"
      ]
     },
     "metadata": {},
     "output_type": "display_data"
    }
   ],
   "source": [
    "plt.imshow(X_test[1])"
   ]
  },
  {
   "cell_type": "code",
   "execution_count": null,
   "id": "956caeea-0df7-4dea-9073-3780f20fd0ec",
   "metadata": {},
   "outputs": [],
   "source": []
  }
 ],
 "metadata": {
  "kernelspec": {
   "display_name": "Python 3 (ipykernel)",
   "language": "python",
   "name": "python3"
  },
  "language_info": {
   "codemirror_mode": {
    "name": "ipython",
    "version": 3
   },
   "file_extension": ".py",
   "mimetype": "text/x-python",
   "name": "python",
   "nbconvert_exporter": "python",
   "pygments_lexer": "ipython3",
   "version": "3.11.0"
  }
 },
 "nbformat": 4,
 "nbformat_minor": 5
}
