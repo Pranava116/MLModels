{
 "cells": [
  {
   "cell_type": "code",
   "execution_count": 86,
   "id": "073ee9a0-6b05-4927-8809-640e01047826",
   "metadata": {},
   "outputs": [
    {
     "name": "stdout",
     "output_type": "stream",
     "text": [
      "\u001b[1m1875/1875\u001b[0m \u001b[32m━━━━━━━━━━━━━━━━━━━━\u001b[0m\u001b[37m\u001b[0m \u001b[1m31s\u001b[0m 15ms/step - accuracy: 0.6633 - loss: 1.9747 - val_accuracy: 0.9579 - val_loss: 0.1493\n",
      "\u001b[1m1/1\u001b[0m \u001b[32m━━━━━━━━━━━━━━━━━━━━\u001b[0m\u001b[37m\u001b[0m \u001b[1m0s\u001b[0m 193ms/step\n"
     ]
    },
    {
     "data": {
      "text/plain": [
       "array([[1.65871442e-10, 4.70654959e-05, 2.34747364e-04, 3.38562188e-07,\n",
       "        1.45911906e-06, 8.72624284e-09, 2.83894241e-12, 9.99702156e-01,\n",
       "        2.03491068e-09, 1.41989522e-05],\n",
       "       [1.96838891e-03, 1.06322195e-05, 9.88461256e-01, 1.89454877e-03,\n",
       "        2.43736868e-04, 1.16139255e-03, 2.04609614e-03, 2.83900845e-05,\n",
       "        4.14905790e-03, 3.66441782e-05],\n",
       "       [4.66432719e-13, 9.96005118e-01, 4.59499051e-06, 9.03723333e-07,\n",
       "        3.85474646e-03, 1.46741099e-08, 3.48348090e-06, 1.26133367e-04,\n",
       "        5.06941660e-06, 2.02022985e-08],\n",
       "       [9.97149289e-01, 6.59800295e-15, 1.96865201e-03, 2.16002022e-07,\n",
       "        6.53954485e-05, 4.39290561e-05, 5.57241787e-04, 4.38913003e-06,\n",
       "        2.99136755e-05, 1.80944480e-04]], dtype=float32)"
      ]
     },
     "execution_count": 86,
     "metadata": {},
     "output_type": "execute_result"
    }
   ],
   "source": [
    "from keras.datasets import mnist\n",
    "from keras.models import Sequential \n",
    "from keras.layers import Dense,  Flatten\n",
    "from tensorflow.keras.layers import Conv2D\n",
    "from keras.utils import to_categorical\n",
    "import numpy as np\n",
    "import matplotlib.pyplot as plt\n",
    "import numpy as np\n",
    "(X_train, y_train), (X_test, y_test) = mnist.load_data()\n",
    "X_train = X_train.reshape(60000, 28, 28, 1)\n",
    "X_test = X_test.reshape(10000, 28, 28, 1)\n",
    "y_train = to_categorical(y_train)\n",
    "y_test = to_categorical(y_test)\n",
    "model = Sequential()\n",
    "model.add(Conv2D(16, kernel_size= 3, activation='relu', input_shape=(28,28,1)))\n",
    "model.add(Conv2D(8, kernel_size = 3, activation='relu'))\n",
    "model.add(Flatten())\n",
    "model.add(Dense(20, activation='relu'))\n",
    "model.add(Dense(10, activation='softmax'))\n",
    "model.compile(optimizer='adam', loss='categorical_crossentropy', metrics=['accuracy'])\n",
    "model.fit(X_train, y_train, validation_data=(X_test, y_test), epochs = 1)\n",
    "model.predict(X_test[:4])"
   ]
  },
  {
   "cell_type": "code",
   "execution_count": 10,
   "id": "a37cd0d9-e7c5-4499-9bd5-1dbe04d9cfe9",
   "metadata": {
    "scrolled": true
   },
   "outputs": [
    {
     "name": "stdout",
     "output_type": "stream",
     "text": [
      "Epoch 1/3\n",
      "\u001b[1m4500/4500\u001b[0m \u001b[32m━━━━━━━━━━━━━━━━━━━━\u001b[0m\u001b[37m\u001b[0m \u001b[1m19s\u001b[0m 4ms/step - acc: 0.8162 - loss: 0.5847 - val_acc: 0.9557 - val_loss: 0.1471\n",
      "Epoch 2/3\n",
      "\u001b[1m4500/4500\u001b[0m \u001b[32m━━━━━━━━━━━━━━━━━━━━\u001b[0m\u001b[37m\u001b[0m \u001b[1m18s\u001b[0m 4ms/step - acc: 0.9362 - loss: 0.2101 - val_acc: 0.9675 - val_loss: 0.1089\n",
      "Epoch 3/3\n",
      "\u001b[1m4500/4500\u001b[0m \u001b[32m━━━━━━━━━━━━━━━━━━━━\u001b[0m\u001b[37m\u001b[0m \u001b[1m21s\u001b[0m 4ms/step - acc: 0.9478 - loss: 0.1716 - val_acc: 0.9715 - val_loss: 0.0925\n",
      "\u001b[1m313/313\u001b[0m \u001b[32m━━━━━━━━━━━━━━━━━━━━\u001b[0m\u001b[37m\u001b[0m \u001b[1m1s\u001b[0m 2ms/step  \n"
     ]
    },
    {
     "name": "stderr",
     "output_type": "stream",
     "text": [
      "WARNING:absl:You are saving your model as an HDF5 file via `model.save()` or `keras.saving.save_model(model)`. This file format is considered legacy. We recommend using instead the native Keras format, e.g. `model.save('my_model.keras')` or `keras.saving.save_model(model, 'my_model.keras')`. \n"
     ]
    },
    {
     "name": "stdout",
     "output_type": "stream",
     "text": [
      "\u001b[1m1/1\u001b[0m \u001b[32m━━━━━━━━━━━━━━━━━━━━\u001b[0m\u001b[37m\u001b[0m \u001b[1m0s\u001b[0m 30ms/step\n",
      "\u001b[1m1/1\u001b[0m \u001b[32m━━━━━━━━━━━━━━━━━━━━\u001b[0m\u001b[37m\u001b[0m \u001b[1m0s\u001b[0m 33ms/step\n"
     ]
    },
    {
     "data": {
      "image/png": "[encoded data removed]",
      "text/plain": [
       "<Figure size 640x480 with 1 Axes>"
      ]
     },
     "metadata": {},
     "output_type": "display_data"
    }
   ],
   "source": [
    "import tensorflow as tf\n",
    "import cv2\n",
    "import numpy as np\n",
    "import matplotlib.pyplot as plt\n",
    "from tensorflow.keras.models import load_model\n",
    "from tensorflow.keras.models import Sequential\n",
    "from tensorflow.keras.layers import Dense, Dropout\n",
    "\n",
    "dataset = tf.keras.datasets.mnist\n",
    "\n",
    "#### train - test - split ####\n",
    "(X_train, y_train), (X_test, y_test) = dataset.load_data()\n",
    "\n",
    "\n",
    "#### normalize value to b/w 0and1 ###\n",
    "X_train= X_train/255.0\n",
    "X_test= X_test/255.0\n",
    "\n",
    "\n",
    "### CNN (BATCH , HEIGHT, WIDTH, 1)\n",
    "#### ANN (BATCH_SIZE, FEATURES)\n",
    "#### FEATURES = WIDTH * HEIGHT\n",
    "#### reshape array to fit in network ####\n",
    "\n",
    "X_train = X_train.reshape(X_train.shape[0], -1)\n",
    "X_test = X_test.reshape(X_test.shape[0], -1)\n",
    "\n",
    "# (batch_size, height, width, 1)\n",
    "#### ANN ########\n",
    "\n",
    "\n",
    "# 0-1\n",
    "model = Sequential()\n",
    "model.add(Dense(64, activation='relu'))\n",
    "model.add(Dropout(0.2))\n",
    "\n",
    "model.add(Dense(64, activation='relu'))\n",
    "model.add(Dropout(0.2))\n",
    "\n",
    "## [0-9] ##\n",
    "model.add(Dense(10, activation='softmax'))\n",
    "\n",
    "model.compile('adam', 'sparse_categorical_crossentropy', metrics=['acc'])\n",
    "\n",
    "model.fit(X_train, y_train, epochs=3, batch_size=12, validation_split=0.1)\n",
    "\n",
    "\n",
    "#### making prediction #######\n",
    "plt.imshow(X_test[1255].reshape(28,28), cmap='gray')\n",
    "plt.xlabel(y_test[1255])\n",
    "plt.ylabel(np.argmax(model.predict(X_test)[1255]))\n",
    "\n",
    "\n",
    "model.save('digit_trained.h5')\n",
    "\n",
    "\n",
    "\n",
    "############  prediction via paints ##########\n",
    "### glob\n",
    "run = False\n",
    "ix,iy = -1,-1\n",
    "follow = 25\n",
    "img = np.zeros((512,512,1))\n",
    "\n",
    "\n",
    "def draw(event, x, y, flag, params):\n",
    "    global run,ix,iy,img,follow\n",
    "    if event == cv2.EVENT_LBUTTONDOWN:\n",
    "        run = True\n",
    "        ix, iy = x, y\n",
    "    elif event == cv2.EVENT_MOUSEMOVE:\n",
    "        if run == True:\n",
    "            cv2.circle(img, (x,y), 20, (255,255,255), -1)\n",
    "    elif event == cv2.EVENT_LBUTTONUP:\n",
    "        run = False\n",
    "        cv2.circle(img, (x,y), 20, (255,255,255), -1)\n",
    "        gray = cv2.resize(img, (28, 28))\n",
    "        gray = gray.reshape(1, 784)\n",
    "        result = np.argmax(model.predict(gray))\n",
    "        result = 'cnn : {}'.format(result)\n",
    "        cv2.putText(img, org=(25,follow), fontFace=cv2.FONT_HERSHEY_SIMPLEX, fontScale=1, text= result, color=(255,0,0), thickness=1)\n",
    "        follow += 25\n",
    "    elif event == cv2.EVENT_RBUTTONDOWN:\n",
    "        img = np.zeros((512,512,1))\n",
    "        follow = 25\n",
    "\n",
    "\n",
    "\n",
    "cv2.namedWindow('image')\n",
    "cv2.setMouseCallback('image', draw)\n",
    "\n",
    "\n",
    "\n",
    "while True:    \n",
    "    cv2.imshow(\"image\", img)\n",
    "   \n",
    "    if cv2.waitKey(0) == 27:\n",
    "        break\n",
    "\n",
    "cv2.destroyAllWindows()"
   ]
  },
  {
   "cell_type": "code",
   "execution_count": null,
   "id": "0e3c2ad3-b078-49f1-bdd2-d1578e86908d",
   "metadata": {},
   "outputs": [],
   "source": []
  },
  {
   "cell_type": "code",
   "execution_count": null,
   "id": "4f8cf0f5-84d1-41da-a78b-c0b58e917818",
   "metadata": {},
   "outputs": [],
   "source": []
  }
 ],
 "metadata": {
  "kernelspec": {
   "display_name": "Python 3 (ipykernel)",
   "language": "python",
   "name": "python3"
  },
  "language_info": {
   "codemirror_mode": {
    "name": "ipython",
    "version": 3
   },
   "file_extension": ".py",
   "mimetype": "text/x-python",
   "name": "python",
   "nbconvert_exporter": "python",
   "pygments_lexer": "ipython3",
   "version": "3.11.0"
  }
 },
 "nbformat": 4,
 "nbformat_minor": 5
}
