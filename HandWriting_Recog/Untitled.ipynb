{
 "cells": [
  {
   "cell_type": "code",
   "execution_count": 1,
   "id": "6512df43-ff53-4c36-a92d-f36bbfdb9f32",
   "metadata": {},
   "outputs": [
    {
     "name": "stderr",
     "output_type": "stream",
     "text": [
      "C:\\Users\\Pranava G Rao\\AppData\\Local\\Programs\\Python\\Python311\\Lib\\site-packages\\keras\\src\\layers\\convolutional\\base_conv.py:107: UserWarning: Do not pass an `input_shape`/`input_dim` argument to a layer. When using Sequential models, prefer using an `Input(shape)` object as the first layer in the model instead.\n",
      "  super().__init__(activity_regularizer=activity_regularizer, **kwargs)\n"
     ]
    },
    {
     "name": "stdout",
     "output_type": "stream",
     "text": [
      "\u001b[1m1875/1875\u001b[0m \u001b[32m━━━━━━━━━━━━━━━━━━━━\u001b[0m\u001b[37m\u001b[0m \u001b[1m24s\u001b[0m 12ms/step - accuracy: 0.2217 - loss: 2.8328 - val_accuracy: 0.3120 - val_loss: 1.7327\n",
      "\u001b[1m1/1\u001b[0m \u001b[32m━━━━━━━━━━━━━━━━━━━━\u001b[0m\u001b[37m\u001b[0m \u001b[1m0s\u001b[0m 133ms/step\n"
     ]
    },
    {
     "data": {
      "text/plain": [
       "array([[1.1898293e-01, 2.7510120e-02, 3.7089244e-02, 1.2312053e-01,\n",
       "        1.1625570e-01, 1.0628410e-01, 1.1248002e-01, 1.2463386e-01,\n",
       "        1.1409770e-01, 1.1954576e-01],\n",
       "       [6.1709082e-20, 4.4229790e-05, 9.9995565e-01, 4.0813869e-18,\n",
       "        1.3090599e-08, 1.7312526e-07, 9.7140279e-14, 1.6754797e-15,\n",
       "        1.4457514e-11, 1.3668370e-12],\n",
       "       [8.8978868e-13, 9.7867638e-01, 1.1726924e-06, 1.2459494e-04,\n",
       "        3.3863870e-11, 2.3042649e-05, 3.7865466e-03, 3.7916630e-05,\n",
       "        1.7214086e-02, 1.3630649e-04],\n",
       "       [1.1898293e-01, 2.7510120e-02, 3.7089244e-02, 1.2312053e-01,\n",
       "        1.1625570e-01, 1.0628410e-01, 1.1248002e-01, 1.2463386e-01,\n",
       "        1.1409770e-01, 1.1954576e-01]], dtype=float32)"
      ]
     },
     "execution_count": 1,
     "metadata": {},
     "output_type": "execute_result"
    }
   ],
   "source": [
    "from keras.datasets import mnist\n",
    "from keras.models import Sequential \n",
    "from keras.layers import Dense,  Flatten\n",
    "from tensorflow.keras.layers import Conv2D\n",
    "from keras.utils import to_categorical\n",
    "import numpy as np\n",
    "import matplotlib.pyplot as plt\n",
    "import numpy as np\n",
    "(X_train, y_train), (X_test, y_test) = mnist.load_data()\n",
    "X_train = X_train.reshape(60000, 28, 28, 1)\n",
    "X_test = X_test.reshape(10000, 28, 28, 1)\n",
    "y_train = to_categorical(y_train)\n",
    "y_test = to_categorical(y_test)\n",
    "model = Sequential()\n",
    "model.add(Conv2D(16, kernel_size= 3, activation='relu', input_shape=(28,28,1)))\n",
    "model.add(Conv2D(8, kernel_size = 3, activation='relu'))\n",
    "model.add(Flatten())\n",
    "model.add(Dense(20, activation='relu'))\n",
    "model.add(Dense(10, activation='softmax'))\n",
    "model.compile(optimizer='adam', loss='categorical_crossentropy', metrics=['accuracy'])\n",
    "model.fit(X_train, y_train, validation_data=(X_test, y_test), epochs = 1)\n",
    "model.predict(X_test[:4])"
   ]
  },
  {
   "cell_type": "code",
   "execution_count": null,
   "id": "b3add639-7efb-4370-be51-73f03637e03c",
   "metadata": {},
   "outputs": [],
   "source": []
  }
 ],
 "metadata": {
  "kernelspec": {
   "display_name": "Python 3 (ipykernel)",
   "language": "python",
   "name": "python3"
  },
  "language_info": {
   "codemirror_mode": {
    "name": "ipython",
    "version": 3
   },
   "file_extension": ".py",
   "mimetype": "text/x-python",
   "name": "python",
   "nbconvert_exporter": "python",
   "pygments_lexer": "ipython3",
   "version": "3.11.0"
  }
 },
 "nbformat": 4,
 "nbformat_minor": 5
}
